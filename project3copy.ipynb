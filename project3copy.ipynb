{
 "cells": [
  {
   "cell_type": "markdown",
   "metadata": {},
   "source": [
    "# Bayesian vs Machine Learning Classification Comparison \n",
    "\n",
    "### Sabrina Pereira and Ashley Swanson"
   ]
  },
  {
   "cell_type": "markdown",
   "metadata": {},
   "source": [
    "This notebook explores the differences between the classification outcomes of a machine learning classifier and a naive Bayesian classifier. To do this, we implement the KNN Neighbors Classifier to output roughly the same precision and recall as a naive Bayesian classifier and analyze the similarities and differences of misclassified data points."
   ]
  },
  {
   "cell_type": "code",
   "execution_count": 2,
   "metadata": {},
   "outputs": [],
   "source": [
    "from sklearn.naive_bayes import GaussianNB\n",
    "from sklearn import datasets\n",
    "from sklearn.model_selection import train_test_split\n",
    "from sklearn.neighbors import KNeighborsClassifier\n",
    "from sklearn.model_selection import cross_val_score\n",
    "\n",
    "from scipy.stats import gaussian_kde\n",
    "\n",
    "from thinkstats2 import Pmf, Cdf, Hist\n",
    "import thinkplot\n",
    "\n",
    "from utils import decorate\n",
    "\n",
    "import pandas as pd\n",
    "import numpy as np \n",
    "\n",
    "import matplotlib.pyplot as plt "
   ]
  },
  {
   "cell_type": "markdown",
   "metadata": {},
   "source": [
    "## Loading Data"
   ]
  },
  {
   "cell_type": "markdown",
   "metadata": {},
   "source": [
    "The iris dataset is one of the most widely used datasets for classification. It was originally collected by Edgar Anderson in 1935, and used in R. A. Fisher’s paper [The Use of Multiple Measurements in Taxonomic Problems](http://rcs.chemometrics.ru/Tutorials/classification/Fisher.pdf). This dataset can be downloaded directly from scikit learn.\n",
    "\n",
    "Anderson recorded four key physical features for three flowers. The following codes correspond to each flower. \n",
    "\n",
    "##### 0=setosa, 1=versicolor, 2=virginica"
   ]
  },
  {
   "cell_type": "code",
   "execution_count": 7,
   "metadata": {},
   "outputs": [
    {
     "data": {
      "text/html": [
       "<div>\n",
       "<style scoped>\n",
       "    .dataframe tbody tr th:only-of-type {\n",
       "        vertical-align: middle;\n",
       "    }\n",
       "\n",
       "    .dataframe tbody tr th {\n",
       "        vertical-align: top;\n",
       "    }\n",
       "\n",
       "    .dataframe thead th {\n",
       "        text-align: right;\n",
       "    }\n",
       "</style>\n",
       "<table border=\"1\" class=\"dataframe\">\n",
       "  <thead>\n",
       "    <tr style=\"text-align: right;\">\n",
       "      <th></th>\n",
       "      <th>sepal length (cm)</th>\n",
       "      <th>sepal width (cm)</th>\n",
       "      <th>petal length (cm)</th>\n",
       "      <th>petal width (cm)</th>\n",
       "      <th>flower</th>\n",
       "    </tr>\n",
       "  </thead>\n",
       "  <tbody>\n",
       "    <tr>\n",
       "      <th>0</th>\n",
       "      <td>5.1</td>\n",
       "      <td>3.5</td>\n",
       "      <td>1.4</td>\n",
       "      <td>0.2</td>\n",
       "      <td>0</td>\n",
       "    </tr>\n",
       "    <tr>\n",
       "      <th>1</th>\n",
       "      <td>4.9</td>\n",
       "      <td>3.0</td>\n",
       "      <td>1.4</td>\n",
       "      <td>0.2</td>\n",
       "      <td>0</td>\n",
       "    </tr>\n",
       "    <tr>\n",
       "      <th>2</th>\n",
       "      <td>4.7</td>\n",
       "      <td>3.2</td>\n",
       "      <td>1.3</td>\n",
       "      <td>0.2</td>\n",
       "      <td>0</td>\n",
       "    </tr>\n",
       "    <tr>\n",
       "      <th>3</th>\n",
       "      <td>4.6</td>\n",
       "      <td>3.1</td>\n",
       "      <td>1.5</td>\n",
       "      <td>0.2</td>\n",
       "      <td>0</td>\n",
       "    </tr>\n",
       "    <tr>\n",
       "      <th>4</th>\n",
       "      <td>5.0</td>\n",
       "      <td>3.6</td>\n",
       "      <td>1.4</td>\n",
       "      <td>0.2</td>\n",
       "      <td>0</td>\n",
       "    </tr>\n",
       "  </tbody>\n",
       "</table>\n",
       "</div>"
      ],
      "text/plain": [
       "   sepal length (cm)  sepal width (cm)  petal length (cm)  petal width (cm)  \\\n",
       "0                5.1               3.5                1.4               0.2   \n",
       "1                4.9               3.0                1.4               0.2   \n",
       "2                4.7               3.2                1.3               0.2   \n",
       "3                4.6               3.1                1.5               0.2   \n",
       "4                5.0               3.6                1.4               0.2   \n",
       "\n",
       "   flower  \n",
       "0       0  \n",
       "1       0  \n",
       "2       0  \n",
       "3       0  \n",
       "4       0  "
      ]
     },
     "execution_count": 7,
     "metadata": {},
     "output_type": "execute_result"
    }
   ],
   "source": [
    "iris = datasets.load_iris()\n",
    "\n",
    "X = iris.data\n",
    "y = iris.target\n",
    "\n",
    "df0 = pd.DataFrame(X, columns=iris.feature_names)\n",
    "df = pd.DataFrame(X, columns=iris.feature_names)\n",
    "df['flower'] = y\n",
    "\n",
    "df.head()"
   ]
  },
  {
   "cell_type": "code",
   "execution_count": 8,
   "metadata": {},
   "outputs": [],
   "source": [
    "setosa = df[df.flower == 0]\n",
    "versicolor = df[df.flower == 1].reset_index(drop=True)\n",
    "virginica = df[df.flower == 2].reset_index(drop=True)"
   ]
  },
  {
   "cell_type": "markdown",
   "metadata": {},
   "source": [
    "## Data Exploration"
   ]
  },
  {
   "cell_type": "markdown",
   "metadata": {},
   "source": [
    "To start, we examine a given feature and plot the distribution of measurements for each flower on one plot. This allows for comparision between distributions, and it gives us some sense of what the decisions boundries might be like for our classifiers. We do the same for the remaining three features. "
   ]
  },
  {
   "cell_type": "code",
   "execution_count": 4,
   "metadata": {},
   "outputs": [
    {
     "name": "stderr",
     "output_type": "stream",
     "text": [
      "/home/spereira/anaconda3/lib/python3.6/site-packages/matplotlib/cbook/deprecation.py:107: MatplotlibDeprecationWarning: Adding an axes using the same arguments as a previous axes currently reuses the earlier instance.  In a future version, a new instance will always be created and returned.  Meanwhile, this warning can be suppressed, and the future behavior ensured, by passing a unique label to each axes instance.\n",
      "  warnings.warn(message, mplDeprecation, stacklevel=1)\n"
     ]
    },
    {
     "data": {
      "image/png": "[encoded data removed]",
      "text/plain": [
       "<Figure size 432x288 with 4 Axes>"
      ]
     },
     "metadata": {},
     "output_type": "display_data"
    }
   ],
   "source": [
    "for fl in [setosa,versicolor,virginica]:\n",
    "\n",
    "    \n",
    "    for i, feature in enumerate(iris.feature_names):\n",
    "\n",
    "        kde = gaussian_kde(fl[feature],bw_method=0.3)\n",
    "\n",
    "        xs = np.linspace(fl[feature].min(), fl[feature].max())\n",
    "        ds = kde.evaluate(xs)\n",
    "        ds /= ds.sum()\n",
    "\n",
    "        plt.subplot(2,2,i+1)\n",
    "\n",
    "        plt.plot(xs, ds, label=iris.target_names[fl.flower[0]])\n",
    "\n",
    "        decorate(xlabel=feature, ylabel='PDF')"
   ]
  },
  {
   "cell_type": "markdown",
   "metadata": {},
   "source": [
    "From this figure, we can see that some features seem to be more valuable for distinquishing flower types than others. \n",
    "\n",
    "For example, in the petal width plot, setosa has no overlap with the other flowers. This means that, within this dataset, setosa is enirely distinguishable from the other flowers with no further information. Versicolor and virginica have little overlap, meaning that petal width would be a good indicator, but there is information to be gained from the features to increase performance.\n",
    "\n",
    "On the other hand, in the sepal width plot, versicolor and virginica are primarliy overlapping. We will see how ou differnt classiffiers take all of this information into account!"
   ]
  },
  {
   "cell_type": "markdown",
   "metadata": {},
   "source": [
    "## Classification "
   ]
  },
  {
   "cell_type": "code",
   "execution_count": 10,
   "metadata": {},
   "outputs": [],
   "source": [
    "def Bayesian(seed, bayes_df):\n",
    "    \n",
    "    actual = []\n",
    "    guess = []\n",
    "    index = []\n",
    "    \n",
    "    X_train, X_test, y_train, y_test =train_test_split(X, y, test_size=0.3, random_state=seed, stratify=y)\n",
    "\n",
    "    bayes = GaussianNB()\n",
    "    \n",
    "    bayes.fit(X_train, y_train)\n",
    "    y_pred = bayes.predict(X_test)\n",
    "    mis_class = y_pred-y_test\n",
    "    \n",
    "    for i in range(len(mis_class)):\n",
    "        if(mis_class[i]!=0):\n",
    "            actual.append(y_test[i])\n",
    "            guess.append(y_pred[i])\n",
    "            index.append(X.tolist().index(X_test[i].tolist()))\n",
    "    temp = pd.DataFrame({'actual':actual, 'guess':guess, 'flower_index':index})\n",
    "\n",
    "    \n",
    "#     return temp\n",
    "    \n",
    "    return (bayes.score(X_test, y_test), temp) "
   ]
  },
  {
   "cell_type": "code",
   "execution_count": 12,
   "metadata": {},
   "outputs": [
    {
     "name": "stdout",
     "output_type": "stream",
     "text": [
      "0.9532666666666667\n"
     ]
    }
   ],
   "source": [
    "bayes_df = pd.DataFrame() \n",
    "scores = []\n",
    "\n",
    "for i in range (0, 1000):\n",
    "    s = Bayesian(i, bayes_df)[0]\n",
    "    temp = Bayesian(i, bayes_df)[1]\n",
    "\n",
    "    scores.append(s)    \n",
    "    bayes_df = bayes_df.append(temp, ignore_index=True)\n",
    "    \n",
    "print(np.mean(scores))\n",
    "# print(bayes_df)"
   ]
  },
  {
   "cell_type": "code",
   "execution_count": 13,
   "metadata": {},
   "outputs": [],
   "source": [
    "def  KNeighbors(seed, n, knn_df):\n",
    "    actual = []\n",
    "    guess = []\n",
    "    index = []\n",
    "    \n",
    "    X_train, X_test, y_train, y_test =train_test_split(X, y, test_size=0.3, random_state=seed, stratify=y)\n",
    "\n",
    "    knn = KNeighborsClassifier(n_neighbors=n)\n",
    "    \n",
    "    knn.fit(X_train, y_train)\n",
    "    y_pred = knn.predict(X_test)\n",
    "    \n",
    "    mis_class = y_pred-y_test\n",
    "    \n",
    "    for i in range(len(mis_class)):\n",
    "        if(mis_class[i]!=0):\n",
    "            actual.append(y_test[i])\n",
    "            guess.append(y_pred[i])\n",
    "            index.append(X.tolist().index(X_test[i].tolist()))\n",
    "    temp = pd.DataFrame({'actual':actual, 'guess':guess, 'flower_index':index})\n",
    "            \n",
    "    return (knn.score(X_test, y_test), temp)\n",
    "            "
   ]
  },
  {
   "cell_type": "code",
   "execution_count": 22,
   "metadata": {},
   "outputs": [
    {
     "name": "stdout",
     "output_type": "stream",
     "text": [
      "1 : 0.9569777777777779\n",
      "2 : 0.9465777777777779\n",
      "3 : 0.9614444444444445\n",
      "4 : 0.9576222222222223\n",
      "5 : 0.9640444444444445\n",
      "6 : 0.9614\n",
      "7 : 0.9647777777777778\n",
      "8 : 0.9628222222222222\n",
      "9 : 0.9666444444444445\n",
      "10 : 0.9629333333333334\n",
      "11 : 0.967\n",
      "12 : 0.9636444444444446\n",
      "13 : 0.9668666666666668\n",
      "14 : 0.9625555555555556\n",
      "15 : 0.965288888888889\n",
      "16 : 0.959088888888889\n",
      "17 : 0.9609777777777778\n",
      "18 : 0.9547111111111112\n",
      "19 : 0.9565111111111112\n"
     ]
    }
   ],
   "source": [
    "knn_df = pd.DataFrame() \n",
    "for k in range(1, 20):\n",
    "    scores = []\n",
    "\n",
    "    for i in range (0, 1000):\n",
    "        s = KNeighbors(i, k, knn_df)[0]\n",
    "        scores.append(s)\n",
    "\n",
    "    print(k, \":\", np.mean(scores))"
   ]
  },
  {
   "cell_type": "markdown",
   "metadata": {},
   "source": [
    "From this test, we can see that we should select 4 or 18 neighbors to get the same accuracy levels as our Bayesian classifier. "
   ]
  },
  {
   "cell_type": "code",
   "execution_count": 24,
   "metadata": {},
   "outputs": [
    {
     "name": "stdout",
     "output_type": "stream",
     "text": [
      "0.9547111111111112\n"
     ]
    }
   ],
   "source": [
    "knn_df = pd.DataFrame() \n",
    "scores = []\n",
    "\n",
    "for i in range (0, 1000):\n",
    "    s = KNeighbors(i, 18, knn_df)[0]\n",
    "    temp = KNeighbors(i, 18, knn_df)[1]\n",
    "    \n",
    "    scores.append(s)\n",
    "    knn_df = knn_df.append(temp, ignore_index=True)\n",
    "\n",
    "\n",
    "print(np.mean(scores))"
   ]
  },
  {
   "cell_type": "code",
   "execution_count": 75,
   "metadata": {},
   "outputs": [
    {
     "data": {
      "text/html": [
       "<div>\n",
       "<style scoped>\n",
       "    .dataframe tbody tr th:only-of-type {\n",
       "        vertical-align: middle;\n",
       "    }\n",
       "\n",
       "    .dataframe tbody tr th {\n",
       "        vertical-align: top;\n",
       "    }\n",
       "\n",
       "    .dataframe thead th {\n",
       "        text-align: right;\n",
       "    }\n",
       "</style>\n",
       "<table border=\"1\" class=\"dataframe\">\n",
       "  <thead>\n",
       "    <tr style=\"text-align: right;\">\n",
       "      <th></th>\n",
       "      <th>actual</th>\n",
       "      <th>guess</th>\n",
       "      <th>flower_index</th>\n",
       "    </tr>\n",
       "  </thead>\n",
       "  <tbody>\n",
       "    <tr>\n",
       "      <th>0</th>\n",
       "      <td>2.0</td>\n",
       "      <td>1.0</td>\n",
       "      <td>134.0</td>\n",
       "    </tr>\n",
       "    <tr>\n",
       "      <th>1</th>\n",
       "      <td>2.0</td>\n",
       "      <td>1.0</td>\n",
       "      <td>106.0</td>\n",
       "    </tr>\n",
       "    <tr>\n",
       "      <th>2</th>\n",
       "      <td>2.0</td>\n",
       "      <td>1.0</td>\n",
       "      <td>134.0</td>\n",
       "    </tr>\n",
       "    <tr>\n",
       "      <th>3</th>\n",
       "      <td>1.0</td>\n",
       "      <td>2.0</td>\n",
       "      <td>77.0</td>\n",
       "    </tr>\n",
       "    <tr>\n",
       "      <th>4</th>\n",
       "      <td>2.0</td>\n",
       "      <td>1.0</td>\n",
       "      <td>119.0</td>\n",
       "    </tr>\n",
       "  </tbody>\n",
       "</table>\n",
       "</div>"
      ],
      "text/plain": [
       "   actual  guess  flower_index\n",
       "0     2.0    1.0         134.0\n",
       "1     2.0    1.0         106.0\n",
       "2     2.0    1.0         134.0\n",
       "3     1.0    2.0          77.0\n",
       "4     2.0    1.0         119.0"
      ]
     },
     "execution_count": 75,
     "metadata": {},
     "output_type": "execute_result"
    }
   ],
   "source": [
    "bayes_df.head()"
   ]
  },
  {
   "cell_type": "code",
   "execution_count": 27,
   "metadata": {},
   "outputs": [
    {
     "data": {
      "image/png": "[encoded data removed]",
      "text/plain": [
       "<Figure size 288x288 with 2 Axes>"
      ]
     },
     "metadata": {},
     "output_type": "display_data"
    },
    {
     "data": {
      "text/plain": [
       "array([[0.        , 0.        , 0.        ],\n",
       "       [0.        , 0.        , 0.53399905],\n",
       "       [0.        , 0.46600095, 0.        ]])"
      ]
     },
     "execution_count": 27,
     "metadata": {},
     "output_type": "execute_result"
    }
   ],
   "source": [
    "b = [[0, 0, 0], [0, 0, 0], [0, 0, 0]]\n",
    "for i in range(0, int(bayes_df.size/3)):\n",
    "    x = int(bayes_df.iloc[i]['actual'])\n",
    "    y = int(bayes_df.iloc[i]['guess'])\n",
    "    b[y][x] += 1\n",
    "A = np.array(b)/int(bayes_df.size/3)\n",
    "\n",
    "plt.matshow(A, vmin=0, vmax=.65, cmap='BuGn')       # same\n",
    "plt.colorbar()\n",
    "plt.title('Bayesian Classifier \\n Misclassification Breakdown \\n')\n",
    "plt.xlabel('Incorrectly Predicted as:')\n",
    "plt.ylabel('Actual')\n",
    "plt.show()\n",
    "\n",
    "A"
   ]
  },
  {
   "cell_type": "code",
   "execution_count": 28,
   "metadata": {},
   "outputs": [
    {
     "data": {
      "image/png": "[encoded data removed]",
      "text/plain": [
       "<Figure size 288x288 with 2 Axes>"
      ]
     },
     "metadata": {},
     "output_type": "display_data"
    },
    {
     "data": {
      "text/plain": [
       "array([[0.        , 0.        , 0.        ],\n",
       "       [0.        , 0.        , 0.65799804],\n",
       "       [0.        , 0.34200196, 0.        ]])"
      ]
     },
     "execution_count": 28,
     "metadata": {},
     "output_type": "execute_result"
    }
   ],
   "source": [
    "k = [[0, 0, 0], [0, 0, 0], [0, 0, 0]]\n",
    "for i in range(0, int(knn_df.size/3)):\n",
    "    x = int(knn_df.iloc[i]['actual'])\n",
    "    y = int(knn_df.iloc[i]['guess'])\n",
    "    k[y][x] += 1\n",
    "K = np.array(k)/int(knn_df.size/3)\n",
    "\n",
    "plt.matshow(K, vmin=0, vmax=.65, cmap='BuGn')       # same\n",
    "plt.colorbar()\n",
    "plt.title('KNN Classifier \\n Misclassification Breakdown \\n')\n",
    "plt.xlabel('Incorrectly Predicted as:')\n",
    "plt.ylabel('Actual')\n",
    "plt.show()\n",
    "\n",
    "K"
   ]
  },
  {
   "cell_type": "code",
   "execution_count": 54,
   "metadata": {},
   "outputs": [
    {
     "data": {
      "image/png": "[encoded data removed]",
      "text/plain": [
       "<Figure size 432x288 with 1 Axes>"
      ]
     },
     "metadata": {},
     "output_type": "display_data"
    },
    {
     "name": "stdout",
     "output_type": "stream",
     "text": [
      "Hist({106.0: 315, 119.0: 306, 133.0: 306, 77.0: 305, 70.0: 277, 52.0: 243, 134.0: 194, 83.0: 78, 56.0: 57, 50.0: 16, 86.0: 4, 126.0: 2})\n",
      "Hist({106.0: 315, 83.0: 286, 77.0: 253, 138.0: 232, 126.0: 173, 123.0: 148, 127.0: 140, 119.0: 128, 121.0: 112, 133.0: 86, 70.0: 66, 72.0: 57, 52.0: 35, 113.0: 7})\n"
     ]
    },
    {
     "data": {
      "text/plain": [
       "<Figure size 576x432 with 0 Axes>"
      ]
     },
     "metadata": {},
     "output_type": "display_data"
    }
   ],
   "source": [
    "bayes_hist = Hist(bayes_df.flower_index)#, label = 'bayes')\n",
    "knn_hist = Hist(knn_df.flower_index)#, label = 'knn')\n",
    "\n",
    "width =.45\n",
    "thinkplot.PrePlot()\n",
    "thinkplot.Hist(bayes_hist, align='right', width=width)\n",
    "thinkplot.Hist(knn_hist, align='left', width=width)\n",
    "thinkplot.Show(xlabel='index', ylabel='frequency')\n",
    "# xlim=[150,200]\n",
    "\n",
    "print(bayes_hist)\n",
    "print(knn_hist)"
   ]
  },
  {
   "cell_type": "markdown",
   "metadata": {},
   "source": []
  },
  {
   "cell_type": "code",
   "execution_count": 200,
   "metadata": {},
   "outputs": [
    {
     "data": {
      "text/plain": [
       "sepal length (cm)    4.9\n",
       "sepal width (cm)     3.0\n",
       "petal length (cm)    1.4\n",
       "petal width (cm)     0.2\n",
       "flower               0.0\n",
       "Name: 1, dtype: float64"
      ]
     },
     "execution_count": 200,
     "metadata": {},
     "output_type": "execute_result"
    }
   ],
   "source": [
    "df.iloc[1]"
   ]
  },
  {
   "cell_type": "code",
   "execution_count": 44,
   "metadata": {},
   "outputs": [
    {
     "name": "stdout",
     "output_type": "stream",
     "text": [
      "sepal length (cm) :    setosa 5.01    versicolor 5.94    virginica 6.59 \n",
      "\n",
      "sepal width (cm) :    setosa 3.43    versicolor 2.77    virginica 2.97 \n",
      "\n",
      "petal length (cm) :    setosa 1.46    versicolor 4.26    virginica 5.55 \n",
      "\n",
      "petal width (cm) :    setosa 0.25    versicolor 1.33    virginica 2.03 \n",
      "\n"
     ]
    }
   ],
   "source": [
    "for feature in (iris.feature_names):\n",
    "    print(feature, \":\", '   setosa', round(np.mean(setosa[feature]),2), '   versicolor', \n",
    "          round(np.mean(versicolor[feature]),2), '   virginica', round(np.mean(virginica[feature]),2),'\\n')"
   ]
  },
  {
   "cell_type": "code",
   "execution_count": 52,
   "metadata": {},
   "outputs": [
    {
     "name": "stdout",
     "output_type": "stream",
     "text": [
      "Flower:  virginica \n",
      "\n",
      "sepal length (cm) : 4.9\n",
      "sepal width (cm) : 2.5\n",
      "petal length (cm) : 4.5\n",
      "petal width (cm) : 1.7\n"
     ]
    }
   ],
   "source": [
    "print(\"Flower: \", iris.target_names[int(df.iloc[106]['flower'])], '\\n')\n",
    "\n",
    "for feature in (iris.feature_names):\n",
    "    print(feature, \":\", df.iloc[106][feature])"
   ]
  },
  {
   "cell_type": "code",
   "execution_count": 55,
   "metadata": {},
   "outputs": [
    {
     "name": "stdout",
     "output_type": "stream",
     "text": [
      "Flower:  virginica \n",
      "\n",
      "sepal length (cm) : 6.0\n",
      "sepal width (cm) : 3.0\n",
      "petal length (cm) : 4.8\n",
      "petal width (cm) : 1.8\n"
     ]
    }
   ],
   "source": [
    "print(\"Flower: \", iris.target_names[int(df.iloc[138]['flower'])], '\\n')\n",
    "for feature in (iris.feature_names):\n",
    "    print(feature, \":\", df.iloc[138][feature])"
   ]
  },
  {
   "cell_type": "code",
   "execution_count": 57,
   "metadata": {},
   "outputs": [
    {
     "name": "stdout",
     "output_type": "stream",
     "text": [
      "Flower:  virginica \n",
      "\n",
      "sepal length (cm) : 6.1\n",
      "sepal width (cm) : 2.6\n",
      "petal length (cm) : 5.6\n",
      "petal width (cm) : 1.4\n"
     ]
    }
   ],
   "source": [
    "print(\"Flower: \", iris.target_names[int(df.iloc[134]['flower'])], '\\n')\n",
    "for feature in (iris.feature_names):\n",
    "    print(feature, \":\", df.iloc[134][feature])"
   ]
  },
  {
   "cell_type": "code",
   "execution_count": null,
   "metadata": {},
   "outputs": [],
   "source": []
  },
  {
   "cell_type": "code",
   "execution_count": null,
   "metadata": {},
   "outputs": [],
   "source": []
  },
  {
   "cell_type": "code",
   "execution_count": null,
   "metadata": {},
   "outputs": [],
   "source": []
  },
  {
   "cell_type": "code",
   "execution_count": null,
   "metadata": {},
   "outputs": [],
   "source": []
  },
  {
   "cell_type": "code",
   "execution_count": null,
   "metadata": {},
   "outputs": [],
   "source": []
  },
  {
   "cell_type": "code",
   "execution_count": null,
   "metadata": {},
   "outputs": [],
   "source": []
  }
 ],
 "metadata": {
  "kernelspec": {
   "display_name": "Python 3",
   "language": "python",
   "name": "python3"
  },
  "language_info": {
   "codemirror_mode": {
    "name": "ipython",
    "version": 3
   },
   "file_extension": ".py",
   "mimetype": "text/x-python",
   "name": "python",
   "nbconvert_exporter": "python",
   "pygments_lexer": "ipython3",
   "version": "3.6.8"
  }
 },
 "nbformat": 4,
 "nbformat_minor": 2
}
