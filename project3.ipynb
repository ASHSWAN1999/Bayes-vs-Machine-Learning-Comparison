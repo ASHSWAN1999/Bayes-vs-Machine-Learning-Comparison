{
 "cells": [
  {
   "cell_type": "code",
   "execution_count": 19,
   "metadata": {},
   "outputs": [],
   "source": [
    "from sklearn.naive_bayes import GaussianNB\n",
    "from sklearn import datasets\n",
    "from sklearn.model_selection import train_test_split\n",
    "from sklearn.neighbors import KNeighborsClassifier\n",
    "\n",
    "from scipy.stats import gaussian_kde\n",
    "\n",
    "from thinkstats2 import Pmf, Cdf\n",
    "import thinkplot\n",
    "\n",
    "from utils import decorate\n",
    "\n",
    "import pandas as pd\n",
    "import numpy as np \n",
    "\n",
    "import matplotlib.pyplot as plt "
   ]
  },
  {
   "cell_type": "markdown",
   "metadata": {},
   "source": [
    "0=setosa, 1=versicolor, 2=virginica"
   ]
  },
  {
   "cell_type": "code",
   "execution_count": 8,
   "metadata": {},
   "outputs": [
    {
     "data": {
      "text/html": [
       "<div>\n",
       "<style scoped>\n",
       "    .dataframe tbody tr th:only-of-type {\n",
       "        vertical-align: middle;\n",
       "    }\n",
       "\n",
       "    .dataframe tbody tr th {\n",
       "        vertical-align: top;\n",
       "    }\n",
       "\n",
       "    .dataframe thead th {\n",
       "        text-align: right;\n",
       "    }\n",
       "</style>\n",
       "<table border=\"1\" class=\"dataframe\">\n",
       "  <thead>\n",
       "    <tr style=\"text-align: right;\">\n",
       "      <th></th>\n",
       "      <th>sepal length (cm)</th>\n",
       "      <th>sepal width (cm)</th>\n",
       "      <th>petal length (cm)</th>\n",
       "      <th>petal width (cm)</th>\n",
       "      <th>flower</th>\n",
       "    </tr>\n",
       "  </thead>\n",
       "  <tbody>\n",
       "    <tr>\n",
       "      <th>0</th>\n",
       "      <td>5.1</td>\n",
       "      <td>3.5</td>\n",
       "      <td>1.4</td>\n",
       "      <td>0.2</td>\n",
       "      <td>0</td>\n",
       "    </tr>\n",
       "    <tr>\n",
       "      <th>1</th>\n",
       "      <td>4.9</td>\n",
       "      <td>3.0</td>\n",
       "      <td>1.4</td>\n",
       "      <td>0.2</td>\n",
       "      <td>0</td>\n",
       "    </tr>\n",
       "    <tr>\n",
       "      <th>2</th>\n",
       "      <td>4.7</td>\n",
       "      <td>3.2</td>\n",
       "      <td>1.3</td>\n",
       "      <td>0.2</td>\n",
       "      <td>0</td>\n",
       "    </tr>\n",
       "    <tr>\n",
       "      <th>3</th>\n",
       "      <td>4.6</td>\n",
       "      <td>3.1</td>\n",
       "      <td>1.5</td>\n",
       "      <td>0.2</td>\n",
       "      <td>0</td>\n",
       "    </tr>\n",
       "    <tr>\n",
       "      <th>4</th>\n",
       "      <td>5.0</td>\n",
       "      <td>3.6</td>\n",
       "      <td>1.4</td>\n",
       "      <td>0.2</td>\n",
       "      <td>0</td>\n",
       "    </tr>\n",
       "  </tbody>\n",
       "</table>\n",
       "</div>"
      ],
      "text/plain": [
       "   sepal length (cm)  sepal width (cm)  petal length (cm)  petal width (cm)  \\\n",
       "0                5.1               3.5                1.4               0.2   \n",
       "1                4.9               3.0                1.4               0.2   \n",
       "2                4.7               3.2                1.3               0.2   \n",
       "3                4.6               3.1                1.5               0.2   \n",
       "4                5.0               3.6                1.4               0.2   \n",
       "\n",
       "   flower  \n",
       "0       0  \n",
       "1       0  \n",
       "2       0  \n",
       "3       0  \n",
       "4       0  "
      ]
     },
     "execution_count": 8,
     "metadata": {},
     "output_type": "execute_result"
    }
   ],
   "source": [
    "iris = datasets.load_iris()\n",
    "X = iris.data\n",
    "y = iris.target\n",
    "df = pd.DataFrame(X, columns=iris.feature_names)\n",
    "df['flower'] = y\n",
    "df.head()"
   ]
  },
  {
   "cell_type": "code",
   "execution_count": 42,
   "metadata": {},
   "outputs": [
    {
     "data": {
      "text/plain": [
       "['sepal length (cm)',\n",
       " 'sepal width (cm)',\n",
       " 'petal length (cm)',\n",
       " 'petal width (cm)']"
      ]
     },
     "execution_count": 42,
     "metadata": {},
     "output_type": "execute_result"
    },
    {
     "data": {
      "image/png": "[encoded data removed]",
      "text/plain": [
       "<Figure size 432x288 with 1 Axes>"
      ]
     },
     "metadata": {},
     "output_type": "display_data"
    }
   ],
   "source": [
    "setosa = df[df.flower == 0]\n",
    "versicolor = df[df.flower == 1].reset_index(drop=True)\n",
    "virginica = df[df.flower == 2].reset_index(drop=True)\n",
    "\n",
    "Cdf_0sl = thinkstats2.Cdf(setosa['sepal length (cm)'])\n",
    "Cdf_1sl = thinkstats2.Cdf(versicolor['sepal length (cm)'])\n",
    "Cdf_2sl = thinkstats2.Cdf(virginica['sepal length (cm)'])\n",
    "\n",
    "thinkplot.PrePlot(3)\n",
    "thinkplot.Cdfs([Cdf_0sl, Cdf_1sl, Cdf_2sl])\n",
    "\n",
    "iris.feature_names"
   ]
  },
  {
   "cell_type": "code",
   "execution_count": 62,
   "metadata": {},
   "outputs": [
    {
     "name": "stderr",
     "output_type": "stream",
     "text": [
      "/home/spereira/anaconda3/lib/python3.6/site-packages/matplotlib/cbook/deprecation.py:107: MatplotlibDeprecationWarning: Adding an axes using the same arguments as a previous axes currently reuses the earlier instance.  In a future version, a new instance will always be created and returned.  Meanwhile, this warning can be suppressed, and the future behavior ensured, by passing a unique label to each axes instance.\n",
      "  warnings.warn(message, mplDeprecation, stacklevel=1)\n"
     ]
    },
    {
     "data": {
      "image/png": "[encoded data removed]",
      "text/plain": [
       "<Figure size 432x288 with 4 Axes>"
      ]
     },
     "metadata": {},
     "output_type": "display_data"
    }
   ],
   "source": [
    "for fl in [setosa,versicolor,virginica]:\n",
    "\n",
    "    \n",
    "    for i, feature in enumerate(iris.feature_names):\n",
    "\n",
    "        kde = gaussian_kde(fl[feature],bw_method=0.3)\n",
    "\n",
    "        xs = np.linspace(fl[feature].min(), fl[feature].max())\n",
    "        ds = kde.evaluate(xs)\n",
    "        ds /= ds.sum()\n",
    "\n",
    "        plt.subplot(2,2,i+1)\n",
    "\n",
    "        plt.plot(xs, ds, label=iris.target_names[fl.flower[0]])\n",
    "\n",
    "        decorate(xlabel=feature, ylabel='PDF')"
   ]
  },
  {
   "cell_type": "code",
   "execution_count": 86,
   "metadata": {},
   "outputs": [
    {
     "name": "stdout",
     "output_type": "stream",
     "text": [
      "Test set predictions:\n",
      " [0 2 1 0 2 0 2 0 1 1 0 1 2 2 0 0 1 2 1 1 0 2 2 2 2 0 1 1 2 1 0 2 0 1 1 2 0\n",
      " 0 2 0 0 1 1 1 1]\n"
     ]
    },
    {
     "data": {
      "text/plain": [
       "0.9777777777777777"
      ]
     },
     "execution_count": 86,
     "metadata": {},
     "output_type": "execute_result"
    }
   ],
   "source": [
    "X_train, X_test, y_train, y_test =train_test_split(X, y, test_size=0.3, random_state=23, stratify=y)\n",
    "\n",
    "bayes = GaussianNB()\n",
    "bayes.fit(X_train, y_train)\n",
    "y_pred = bayes.predict(X_test)\n",
    "\n",
    "print(\"Test set predictions:\\n {}\".format(y_pred))\n",
    "\n",
    "bayes.score(X_test, y_test) "
   ]
  },
  {
   "cell_type": "code",
   "execution_count": 87,
   "metadata": {},
   "outputs": [
    {
     "data": {
      "text/plain": [
       "array([0, 2, 1, 0, 2, 0, 2, 0, 1, 1, 0, 1, 2, 2, 0, 0, 1, 2, 1, 1, 0, 2,\n",
       "       2, 2, 2, 0, 2, 1, 2, 1, 0, 2, 0, 1, 1, 2, 0, 0, 2, 0, 0, 1, 1, 1,\n",
       "       1])"
      ]
     },
     "execution_count": 87,
     "metadata": {},
     "output_type": "execute_result"
    }
   ],
   "source": [
    "y_test"
   ]
  },
  {
   "cell_type": "code",
   "execution_count": 88,
   "metadata": {},
   "outputs": [],
   "source": [
    "mis_class = y_pred-y_test"
   ]
  },
  {
   "cell_type": "code",
   "execution_count": 89,
   "metadata": {},
   "outputs": [
    {
     "name": "stdout",
     "output_type": "stream",
     "text": [
      "Flower: 2    Guess: 1    Data: [6.3 2.8 5.1 1.5]\n"
     ]
    }
   ],
   "source": [
    "for i in range(len(mis_class)):\n",
    "    if(mis_class[i]!=0):\n",
    "        print(\"Flower:\", y_test[i], \"   Guess:\",y_pred[i], \"   Data:\", X_test[i])"
   ]
  },
  {
   "cell_type": "code",
   "execution_count": 90,
   "metadata": {},
   "outputs": [],
   "source": [
    "def Bayesian(seed):\n",
    "    X_train, X_test, y_train, y_test =train_test_split(X, y, test_size=0.3, random_state=seed, stratify=y)\n",
    "\n",
    "    bayes = GaussianNB()\n",
    "    bayes.fit(X_train, y_train)\n",
    "    y_pred = bayes.predict(X_test)\n",
    "\n",
    "    bayes.score(X_test, y_test) \n",
    "    \n",
    "    mis_class = y_pred-y_test\n",
    "    \n",
    "    for i in range(len(mis_class)):\n",
    "        if(mis_class[i]!=0):\n",
    "            print(\"Flower:\", y_test[i], \"   Guess:\",y_pred[i], \"   Data:\", X_test[i])"
   ]
  },
  {
   "cell_type": "code",
   "execution_count": 94,
   "metadata": {},
   "outputs": [
    {
     "name": "stdout",
     "output_type": "stream",
     "text": [
      "  \n",
      "Flower: 1    Guess: 2    Data: [6.9 3.1 4.9 1.5]\n",
      "  \n",
      "Flower: 2    Guess: 1    Data: [6.  2.2 5.  1.5]\n",
      "Flower: 2    Guess: 1    Data: [6.3 2.8 5.1 1.5]\n",
      "Flower: 1    Guess: 2    Data: [5.9 3.2 4.8 1.8]\n",
      "  \n",
      "Flower: 2    Guess: 1    Data: [6.3 2.8 5.1 1.5]\n",
      "  \n",
      "Flower: 1    Guess: 2    Data: [6.9 3.1 4.9 1.5]\n",
      "Flower: 1    Guess: 2    Data: [6.7 3.  5.  1.7]\n",
      "  \n",
      "Flower: 2    Guess: 1    Data: [6.3 2.8 5.1 1.5]\n",
      "Flower: 1    Guess: 2    Data: [5.9 3.2 4.8 1.8]\n",
      "Flower: 2    Guess: 1    Data: [6.  2.2 5.  1.5]\n",
      "  \n",
      "Flower: 2    Guess: 1    Data: [6.  2.2 5.  1.5]\n",
      "  \n",
      "Flower: 2    Guess: 1    Data: [6.1 2.6 5.6 1.4]\n",
      "Flower: 2    Guess: 1    Data: [4.9 2.5 4.5 1.7]\n",
      "Flower: 2    Guess: 1    Data: [6.  2.2 5.  1.5]\n",
      "  \n",
      "Flower: 1    Guess: 2    Data: [6.7 3.  5.  1.7]\n",
      "Flower: 2    Guess: 1    Data: [6.  2.2 5.  1.5]\n",
      "Flower: 2    Guess: 1    Data: [6.1 2.6 5.6 1.4]\n",
      "  \n",
      "Flower: 2    Guess: 1    Data: [6.  2.2 5.  1.5]\n",
      "Flower: 2    Guess: 1    Data: [6.3 2.8 5.1 1.5]\n",
      "  \n"
     ]
    }
   ],
   "source": [
    "for i in range (20, 30):\n",
    "    Bayesian(i)\n",
    "    print(\"  \")"
   ]
  },
  {
   "cell_type": "code",
   "execution_count": 106,
   "metadata": {},
   "outputs": [],
   "source": [
    "def  KNeighbors(seed):\n",
    "    X_train, X_test, y_train, y_test =train_test_split(X, y, test_size=0.3, random_state=seed, stratify=y)\n",
    "\n",
    "    knn = KNeighborsClassifier(n_neighbors=3)\n",
    "    knn.fit(X_train, y_train)\n",
    "    y_pred = knn.predict(X_test)\n",
    "\n",
    "    bayes.score(X_test, y_test) \n",
    "    \n",
    "    mis_class = y_pred-y_test\n",
    "    \n",
    "    for i in range(len(mis_class)):\n",
    "        if(mis_class[i]!=0):\n",
    "            print(\"Flower:\", y_test[i], \"   Guess:\",y_pred[i], \"   Data:\", X_test[i])"
   ]
  },
  {
   "cell_type": "code",
   "execution_count": 107,
   "metadata": {},
   "outputs": [
    {
     "name": "stdout",
     "output_type": "stream",
     "text": [
      "Flower: 1    Guess: 2    Data: [6.  2.7 5.1 1.6]\n",
      "Flower: 2    Guess: 1    Data: [6.  3.  4.8 1.8]\n",
      "  \n",
      "Flower: 1    Guess: 2    Data: [6.  2.7 5.1 1.6]\n",
      "  \n",
      "Flower: 2    Guess: 1    Data: [6.  2.2 5.  1.5]\n",
      "Flower: 2    Guess: 1    Data: [6.3 2.8 5.1 1.5]\n",
      "Flower: 1    Guess: 2    Data: [5.9 3.2 4.8 1.8]\n",
      "  \n",
      "Flower: 2    Guess: 1    Data: [6.  3.  4.8 1.8]\n",
      "Flower: 2    Guess: 1    Data: [5.9 3.  5.1 1.8]\n",
      "Flower: 1    Guess: 2    Data: [6.3 2.5 4.9 1.5]\n",
      "Flower: 2    Guess: 1    Data: [6.3 2.8 5.1 1.5]\n",
      "Flower: 2    Guess: 1    Data: [6.1 3.  4.9 1.8]\n",
      "  \n",
      "Flower: 1    Guess: 2    Data: [6.3 2.5 4.9 1.5]\n",
      "Flower: 1    Guess: 2    Data: [6.7 3.  5.  1.7]\n",
      "  \n",
      "Flower: 1    Guess: 2    Data: [6.3 2.5 4.9 1.5]\n",
      "Flower: 1    Guess: 2    Data: [5.9 3.2 4.8 1.8]\n",
      "Flower: 2    Guess: 1    Data: [6.  2.2 5.  1.5]\n",
      "  \n",
      "Flower: 2    Guess: 1    Data: [6.  2.2 5.  1.5]\n",
      "Flower: 1    Guess: 2    Data: [6.3 2.5 4.9 1.5]\n",
      "  \n",
      "Flower: 2    Guess: 1    Data: [4.9 2.5 4.5 1.7]\n",
      "Flower: 2    Guess: 1    Data: [6.  2.2 5.  1.5]\n",
      "  \n",
      "Flower: 2    Guess: 1    Data: [6.  2.2 5.  1.5]\n",
      "Flower: 1    Guess: 2    Data: [6.3 2.5 4.9 1.5]\n",
      "  \n",
      "Flower: 2    Guess: 1    Data: [6.  2.2 5.  1.5]\n",
      "Flower: 2    Guess: 1    Data: [6.3 2.8 5.1 1.5]\n",
      "  \n"
     ]
    }
   ],
   "source": [
    "for i in range (20, 30):\n",
    "    KNeighbors(i)\n",
    "    print(\"  \")"
   ]
  },
  {
   "cell_type": "code",
   "execution_count": null,
   "metadata": {},
   "outputs": [],
   "source": []
  }
 ],
 "metadata": {
  "kernelspec": {
   "display_name": "Python 3",
   "language": "python",
   "name": "python3"
  },
  "language_info": {
   "codemirror_mode": {
    "name": "ipython",
    "version": 3
   },
   "file_extension": ".py",
   "mimetype": "text/x-python",
   "name": "python",
   "nbconvert_exporter": "python",
   "pygments_lexer": "ipython3",
   "version": "3.6.5"
  }
 },
 "nbformat": 4,
 "nbformat_minor": 2
}
