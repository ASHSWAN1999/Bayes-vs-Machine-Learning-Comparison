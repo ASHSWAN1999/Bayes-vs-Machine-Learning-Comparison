{
 "cells": [
  {
   "cell_type": "code",
   "execution_count": 98,
   "metadata": {},
   "outputs": [],
   "source": [
    "from sklearn.naive_bayes import GaussianNB\n",
    "from sklearn import datasets\n",
    "from sklearn.model_selection import train_test_split\n",
    "from sklearn.neighbors import KNeighborsClassifier\n",
    "\n",
    "import pandas as pd\n",
    "import numpy as np \n",
    "\n",
    "import matplotlib.pyplot as plt "
   ]
  },
  {
   "cell_type": "markdown",
   "metadata": {},
   "source": [
    "0=setosa, 1=versicolor, 2=virginica"
   ]
  },
  {
   "cell_type": "code",
   "execution_count": 85,
   "metadata": {},
   "outputs": [],
   "source": [
    "iris = datasets.load_iris()\n",
    "X = iris.data\n",
    "y = iris.target\n",
    "df = pd.DataFrame(X, columns=iris.feature_names)"
   ]
  },
  {
   "cell_type": "code",
   "execution_count": 86,
   "metadata": {},
   "outputs": [
    {
     "name": "stdout",
     "output_type": "stream",
     "text": [
      "Test set predictions:\n",
      " [0 2 1 0 2 0 2 0 1 1 0 1 2 2 0 0 1 2 1 1 0 2 2 2 2 0 1 1 2 1 0 2 0 1 1 2 0\n",
      " 0 2 0 0 1 1 1 1]\n"
     ]
    },
    {
     "data": {
      "text/plain": [
       "0.9777777777777777"
      ]
     },
     "execution_count": 86,
     "metadata": {},
     "output_type": "execute_result"
    }
   ],
   "source": [
    "X_train, X_test, y_train, y_test =train_test_split(X, y, test_size=0.3, random_state=23, stratify=y)\n",
    "\n",
    "bayes = GaussianNB()\n",
    "bayes.fit(X_train, y_train)\n",
    "y_pred = bayes.predict(X_test)\n",
    "\n",
    "print(\"Test set predictions:\\n {}\".format(y_pred))\n",
    "\n",
    "bayes.score(X_test, y_test) "
   ]
  },
  {
   "cell_type": "code",
   "execution_count": 87,
   "metadata": {},
   "outputs": [
    {
     "data": {
      "text/plain": [
       "array([0, 2, 1, 0, 2, 0, 2, 0, 1, 1, 0, 1, 2, 2, 0, 0, 1, 2, 1, 1, 0, 2,\n",
       "       2, 2, 2, 0, 2, 1, 2, 1, 0, 2, 0, 1, 1, 2, 0, 0, 2, 0, 0, 1, 1, 1,\n",
       "       1])"
      ]
     },
     "execution_count": 87,
     "metadata": {},
     "output_type": "execute_result"
    }
   ],
   "source": [
    "y_test"
   ]
  },
  {
   "cell_type": "code",
   "execution_count": 88,
   "metadata": {},
   "outputs": [],
   "source": [
    "mis_class = y_pred-y_test"
   ]
  },
  {
   "cell_type": "code",
   "execution_count": 89,
   "metadata": {},
   "outputs": [
    {
     "name": "stdout",
     "output_type": "stream",
     "text": [
      "Flower: 2    Guess: 1    Data: [6.3 2.8 5.1 1.5]\n"
     ]
    }
   ],
   "source": [
    "for i in range(len(mis_class)):\n",
    "    if(mis_class[i]!=0):\n",
    "        print(\"Flower:\", y_test[i], \"   Guess:\",y_pred[i], \"   Data:\", X_test[i])"
   ]
  },
  {
   "cell_type": "code",
   "execution_count": 90,
   "metadata": {},
   "outputs": [],
   "source": [
    "def Bayesian(seed):\n",
    "    X_train, X_test, y_train, y_test =train_test_split(X, y, test_size=0.3, random_state=seed, stratify=y)\n",
    "\n",
    "    bayes = GaussianNB()\n",
    "    bayes.fit(X_train, y_train)\n",
    "    y_pred = bayes.predict(X_test)\n",
    "\n",
    "    bayes.score(X_test, y_test) \n",
    "    \n",
    "    mis_class = y_pred-y_test\n",
    "    \n",
    "    for i in range(len(mis_class)):\n",
    "        if(mis_class[i]!=0):\n",
    "            print(\"Flower:\", y_test[i], \"   Guess:\",y_pred[i], \"   Data:\", X_test[i])"
   ]
  },
  {
   "cell_type": "code",
   "execution_count": 94,
   "metadata": {},
   "outputs": [
    {
     "name": "stdout",
     "output_type": "stream",
     "text": [
      "  \n",
      "Flower: 1    Guess: 2    Data: [6.9 3.1 4.9 1.5]\n",
      "  \n",
      "Flower: 2    Guess: 1    Data: [6.  2.2 5.  1.5]\n",
      "Flower: 2    Guess: 1    Data: [6.3 2.8 5.1 1.5]\n",
      "Flower: 1    Guess: 2    Data: [5.9 3.2 4.8 1.8]\n",
      "  \n",
      "Flower: 2    Guess: 1    Data: [6.3 2.8 5.1 1.5]\n",
      "  \n",
      "Flower: 1    Guess: 2    Data: [6.9 3.1 4.9 1.5]\n",
      "Flower: 1    Guess: 2    Data: [6.7 3.  5.  1.7]\n",
      "  \n",
      "Flower: 2    Guess: 1    Data: [6.3 2.8 5.1 1.5]\n",
      "Flower: 1    Guess: 2    Data: [5.9 3.2 4.8 1.8]\n",
      "Flower: 2    Guess: 1    Data: [6.  2.2 5.  1.5]\n",
      "  \n",
      "Flower: 2    Guess: 1    Data: [6.  2.2 5.  1.5]\n",
      "  \n",
      "Flower: 2    Guess: 1    Data: [6.1 2.6 5.6 1.4]\n",
      "Flower: 2    Guess: 1    Data: [4.9 2.5 4.5 1.7]\n",
      "Flower: 2    Guess: 1    Data: [6.  2.2 5.  1.5]\n",
      "  \n",
      "Flower: 1    Guess: 2    Data: [6.7 3.  5.  1.7]\n",
      "Flower: 2    Guess: 1    Data: [6.  2.2 5.  1.5]\n",
      "Flower: 2    Guess: 1    Data: [6.1 2.6 5.6 1.4]\n",
      "  \n",
      "Flower: 2    Guess: 1    Data: [6.  2.2 5.  1.5]\n",
      "Flower: 2    Guess: 1    Data: [6.3 2.8 5.1 1.5]\n",
      "  \n"
     ]
    }
   ],
   "source": [
    "for i in range (20, 30):\n",
    "    Bayesian(i)\n",
    "    print(\"  \")"
   ]
  },
  {
   "cell_type": "code",
   "execution_count": 106,
   "metadata": {},
   "outputs": [],
   "source": [
    "def  KNeighbors(seed):\n",
    "    X_train, X_test, y_train, y_test =train_test_split(X, y, test_size=0.3, random_state=seed, stratify=y)\n",
    "\n",
    "    knn = KNeighborsClassifier(n_neighbors=3)\n",
    "    knn.fit(X_train, y_train)\n",
    "    y_pred = knn.predict(X_test)\n",
    "\n",
    "    bayes.score(X_test, y_test) \n",
    "    \n",
    "    mis_class = y_pred-y_test\n",
    "    \n",
    "    for i in range(len(mis_class)):\n",
    "        if(mis_class[i]!=0):\n",
    "            print(\"Flower:\", y_test[i], \"   Guess:\",y_pred[i], \"   Data:\", X_test[i])"
   ]
  },
  {
   "cell_type": "code",
   "execution_count": 107,
   "metadata": {},
   "outputs": [
    {
     "name": "stdout",
     "output_type": "stream",
     "text": [
      "Flower: 1    Guess: 2    Data: [6.  2.7 5.1 1.6]\n",
      "Flower: 2    Guess: 1    Data: [6.  3.  4.8 1.8]\n",
      "  \n",
      "Flower: 1    Guess: 2    Data: [6.  2.7 5.1 1.6]\n",
      "  \n",
      "Flower: 2    Guess: 1    Data: [6.  2.2 5.  1.5]\n",
      "Flower: 2    Guess: 1    Data: [6.3 2.8 5.1 1.5]\n",
      "Flower: 1    Guess: 2    Data: [5.9 3.2 4.8 1.8]\n",
      "  \n",
      "Flower: 2    Guess: 1    Data: [6.  3.  4.8 1.8]\n",
      "Flower: 2    Guess: 1    Data: [5.9 3.  5.1 1.8]\n",
      "Flower: 1    Guess: 2    Data: [6.3 2.5 4.9 1.5]\n",
      "Flower: 2    Guess: 1    Data: [6.3 2.8 5.1 1.5]\n",
      "Flower: 2    Guess: 1    Data: [6.1 3.  4.9 1.8]\n",
      "  \n",
      "Flower: 1    Guess: 2    Data: [6.3 2.5 4.9 1.5]\n",
      "Flower: 1    Guess: 2    Data: [6.7 3.  5.  1.7]\n",
      "  \n",
      "Flower: 1    Guess: 2    Data: [6.3 2.5 4.9 1.5]\n",
      "Flower: 1    Guess: 2    Data: [5.9 3.2 4.8 1.8]\n",
      "Flower: 2    Guess: 1    Data: [6.  2.2 5.  1.5]\n",
      "  \n",
      "Flower: 2    Guess: 1    Data: [6.  2.2 5.  1.5]\n",
      "Flower: 1    Guess: 2    Data: [6.3 2.5 4.9 1.5]\n",
      "  \n",
      "Flower: 2    Guess: 1    Data: [4.9 2.5 4.5 1.7]\n",
      "Flower: 2    Guess: 1    Data: [6.  2.2 5.  1.5]\n",
      "  \n",
      "Flower: 2    Guess: 1    Data: [6.  2.2 5.  1.5]\n",
      "Flower: 1    Guess: 2    Data: [6.3 2.5 4.9 1.5]\n",
      "  \n",
      "Flower: 2    Guess: 1    Data: [6.  2.2 5.  1.5]\n",
      "Flower: 2    Guess: 1    Data: [6.3 2.8 5.1 1.5]\n",
      "  \n"
     ]
    }
   ],
   "source": [
    "for i in range (20, 30):\n",
    "    KNeighbors(i)\n",
    "    print(\"  \")"
   ]
  },
  {
   "cell_type": "code",
   "execution_count": null,
   "metadata": {},
   "outputs": [],
   "source": []
  }
 ],
 "metadata": {
  "kernelspec": {
   "display_name": "Python 3",
   "language": "python",
   "name": "python3"
  },
  "language_info": {
   "codemirror_mode": {
    "name": "ipython",
    "version": 3
   },
   "file_extension": ".py",
   "mimetype": "text/x-python",
   "name": "python",
   "nbconvert_exporter": "python",
   "pygments_lexer": "ipython3",
   "version": "3.6.8"
  }
 },
 "nbformat": 4,
 "nbformat_minor": 2
}
